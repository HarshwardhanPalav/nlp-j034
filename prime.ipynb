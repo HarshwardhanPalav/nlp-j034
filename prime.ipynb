{
  "nbformat": 4,
  "nbformat_minor": 0,
  "metadata": {
    "colab": {
      "name": "prime.ipynb",
      "provenance": [],
      "collapsed_sections": [],
      "include_colab_link": true
    },
    "kernelspec": {
      "name": "python3",
      "display_name": "Python 3"
    }
  },
  "cells": [
    {
      "cell_type": "markdown",
      "metadata": {
        "id": "view-in-github",
        "colab_type": "text"
      },
      "source": [
        "<a href=\"https://colab.research.google.com/github/HarshwardhanPalav/nlp-j034/blob/classwork/prime.ipynb\" target=\"_parent\"><img src=\"https://colab.research.google.com/assets/colab-badge.svg\" alt=\"Open In Colab\"/></a>"
      ]
    },
    {
      "cell_type": "code",
      "metadata": {
        "id": "7EzHKkVktqrl",
        "colab_type": "code",
        "colab": {}
      },
      "source": [
        "def primenumber(n):\n",
        "    if n==1:\n",
        "        return 2\n",
        "    count = 1\n",
        "    num = 1\n",
        "    while(count < n):\n",
        "        num +=2 \n",
        "        if prime(num):\n",
        "            count +=1\n",
        "    return num\n",
        "\n"
      ],
      "execution_count": 0,
      "outputs": []
    },
    {
      "cell_type": "code",
      "metadata": {
        "id": "LwY3NY67twea",
        "colab_type": "code",
        "colab": {}
      },
      "source": [
        "def prime(num):\n",
        "    factor = 2\n",
        "    while (factor * factor <= num):\n",
        "        if num % factor == 0:\n",
        "             return False\n",
        "        factor +=1\n",
        "    return True"
      ],
      "execution_count": 0,
      "outputs": []
    },
    {
      "cell_type": "code",
      "metadata": {
        "id": "xVyk3KnLt27t",
        "colab_type": "code",
        "colab": {
          "base_uri": "https://localhost:8080/",
          "height": 34
        },
        "outputId": "53ee3b4f-6cb3-4be7-96a5-6bf23ea2787b"
      },
      "source": [
        "primenumber(100)"
      ],
      "execution_count": 7,
      "outputs": [
        {
          "output_type": "execute_result",
          "data": {
            "text/plain": [
              "541"
            ]
          },
          "metadata": {
            "tags": []
          },
          "execution_count": 7
        }
      ]
    }
  ]
}