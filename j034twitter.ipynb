{
  "nbformat": 4,
  "nbformat_minor": 0,
  "metadata": {
    "colab": {
      "name": "j034twitter.ipynb",
      "provenance": [],
      "authorship_tag": "ABX9TyPwM2rvkMluJ8v9uNK+hqE7",
      "include_colab_link": true
    },
    "kernelspec": {
      "name": "python3",
      "display_name": "Python 3"
    }
  },
  "cells": [
    {
      "cell_type": "markdown",
      "metadata": {
        "id": "view-in-github",
        "colab_type": "text"
      },
      "source": [
        "<a href=\"https://colab.research.google.com/github/HarshwardhanPalav/nlp-j034/blob/classwork/j034twitter.ipynb\" target=\"_parent\"><img src=\"https://colab.research.google.com/assets/colab-badge.svg\" alt=\"Open In Colab\"/></a>"
      ]
    },
    {
      "cell_type": "code",
      "metadata": {
        "id": "o1h_dWca_dEA",
        "colab_type": "code",
        "colab": {}
      },
      "source": [
        "import pandas as pd\n",
        "import numpy as np"
      ],
      "execution_count": 0,
      "outputs": []
    },
    {
      "cell_type": "code",
      "metadata": {
        "id": "kcdfAIe0_tdE",
        "colab_type": "code",
        "colab": {}
      },
      "source": [
        "df_twitter=pd.read_csv('https://raw.githubusercontent.com/zfz/twitter_corpus/master/full-corpus.csv',error_bad_lines=False)\n",
        "df_amazon=pd.read_json(\"http://snap.stanford.edu/data/amazon/productGraph/categoryFiles/reviews_Office_Products_5.json.gz\",lines=True)"
      ],
      "execution_count": 0,
      "outputs": []
    },
    {
      "cell_type": "code",
      "metadata": {
        "id": "X5e_5Qv4_wu7",
        "colab_type": "code",
        "colab": {}
      },
      "source": [
        "df_twitter=df_twitter[df_twitter['Sentiment']!='irrelevant']"
      ],
      "execution_count": 0,
      "outputs": []
    },
    {
      "cell_type": "code",
      "metadata": {
        "id": "Ur9_vJzz_0M3",
        "colab_type": "code",
        "colab": {
          "base_uri": "https://localhost:8080/",
          "height": 204
        },
        "outputId": "fe9d16fd-acfe-48ff-8e82-c80cb3c3c80b"
      },
      "source": [
        "df_twitter.head()"
      ],
      "execution_count": 4,
      "outputs": [
        {
          "output_type": "execute_result",
          "data": {
            "text/html": [
              "<div>\n",
              "<style scoped>\n",
              "    .dataframe tbody tr th:only-of-type {\n",
              "        vertical-align: middle;\n",
              "    }\n",
              "\n",
              "    .dataframe tbody tr th {\n",
              "        vertical-align: top;\n",
              "    }\n",
              "\n",
              "    .dataframe thead th {\n",
              "        text-align: right;\n",
              "    }\n",
              "</style>\n",
              "<table border=\"1\" class=\"dataframe\">\n",
              "  <thead>\n",
              "    <tr style=\"text-align: right;\">\n",
              "      <th></th>\n",
              "      <th>Topic</th>\n",
              "      <th>Sentiment</th>\n",
              "      <th>TweetId</th>\n",
              "      <th>TweetDate</th>\n",
              "      <th>TweetText</th>\n",
              "    </tr>\n",
              "  </thead>\n",
              "  <tbody>\n",
              "    <tr>\n",
              "      <th>0</th>\n",
              "      <td>apple</td>\n",
              "      <td>positive</td>\n",
              "      <td>126415614616154112</td>\n",
              "      <td>Tue Oct 18 21:53:25 +0000 2011</td>\n",
              "      <td>Now all @Apple has to do is get swype on the i...</td>\n",
              "    </tr>\n",
              "    <tr>\n",
              "      <th>1</th>\n",
              "      <td>apple</td>\n",
              "      <td>positive</td>\n",
              "      <td>126404574230740992</td>\n",
              "      <td>Tue Oct 18 21:09:33 +0000 2011</td>\n",
              "      <td>@Apple will be adding more carrier support to ...</td>\n",
              "    </tr>\n",
              "    <tr>\n",
              "      <th>2</th>\n",
              "      <td>apple</td>\n",
              "      <td>positive</td>\n",
              "      <td>126402758403305474</td>\n",
              "      <td>Tue Oct 18 21:02:20 +0000 2011</td>\n",
              "      <td>Hilarious @youtube video - guy does a duet wit...</td>\n",
              "    </tr>\n",
              "    <tr>\n",
              "      <th>3</th>\n",
              "      <td>apple</td>\n",
              "      <td>positive</td>\n",
              "      <td>126397179614068736</td>\n",
              "      <td>Tue Oct 18 20:40:10 +0000 2011</td>\n",
              "      <td>@RIM you made it too easy for me to switch to ...</td>\n",
              "    </tr>\n",
              "    <tr>\n",
              "      <th>4</th>\n",
              "      <td>apple</td>\n",
              "      <td>positive</td>\n",
              "      <td>126395626979196928</td>\n",
              "      <td>Tue Oct 18 20:34:00 +0000 2011</td>\n",
              "      <td>I just realized that the reason I got into twi...</td>\n",
              "    </tr>\n",
              "  </tbody>\n",
              "</table>\n",
              "</div>"
            ],
            "text/plain": [
              "   Topic  ...                                          TweetText\n",
              "0  apple  ...  Now all @Apple has to do is get swype on the i...\n",
              "1  apple  ...  @Apple will be adding more carrier support to ...\n",
              "2  apple  ...  Hilarious @youtube video - guy does a duet wit...\n",
              "3  apple  ...  @RIM you made it too easy for me to switch to ...\n",
              "4  apple  ...  I just realized that the reason I got into twi...\n",
              "\n",
              "[5 rows x 5 columns]"
            ]
          },
          "metadata": {
            "tags": []
          },
          "execution_count": 4
        }
      ]
    },
    {
      "cell_type": "code",
      "metadata": {
        "id": "0tEeGvBQ_4UX",
        "colab_type": "code",
        "colab": {
          "base_uri": "https://localhost:8080/",
          "height": 289
        },
        "outputId": "3451b5d1-9844-4df3-c9d8-b99865b161f2"
      },
      "source": [
        "df_amazon.head()"
      ],
      "execution_count": 5,
      "outputs": [
        {
          "output_type": "execute_result",
          "data": {
            "text/html": [
              "<div>\n",
              "<style scoped>\n",
              "    .dataframe tbody tr th:only-of-type {\n",
              "        vertical-align: middle;\n",
              "    }\n",
              "\n",
              "    .dataframe tbody tr th {\n",
              "        vertical-align: top;\n",
              "    }\n",
              "\n",
              "    .dataframe thead th {\n",
              "        text-align: right;\n",
              "    }\n",
              "</style>\n",
              "<table border=\"1\" class=\"dataframe\">\n",
              "  <thead>\n",
              "    <tr style=\"text-align: right;\">\n",
              "      <th></th>\n",
              "      <th>reviewerID</th>\n",
              "      <th>asin</th>\n",
              "      <th>reviewerName</th>\n",
              "      <th>helpful</th>\n",
              "      <th>reviewText</th>\n",
              "      <th>overall</th>\n",
              "      <th>summary</th>\n",
              "      <th>unixReviewTime</th>\n",
              "      <th>reviewTime</th>\n",
              "    </tr>\n",
              "  </thead>\n",
              "  <tbody>\n",
              "    <tr>\n",
              "      <th>0</th>\n",
              "      <td>A32T2H8150OJLU</td>\n",
              "      <td>B00000JBLH</td>\n",
              "      <td>ARH</td>\n",
              "      <td>[3, 4]</td>\n",
              "      <td>I bought my first HP12C in about 1984 or so, a...</td>\n",
              "      <td>5</td>\n",
              "      <td>A solid performer, and long time friend</td>\n",
              "      <td>1094169600</td>\n",
              "      <td>09 3, 2004</td>\n",
              "    </tr>\n",
              "    <tr>\n",
              "      <th>1</th>\n",
              "      <td>A3MAFS04ZABRGO</td>\n",
              "      <td>B00000JBLH</td>\n",
              "      <td>Let it Be \"Alan\"</td>\n",
              "      <td>[7, 9]</td>\n",
              "      <td>WHY THIS BELATED REVIEW? I feel very obliged t...</td>\n",
              "      <td>5</td>\n",
              "      <td>Price of GOLD is up, so don't bury the golden ...</td>\n",
              "      <td>1197676800</td>\n",
              "      <td>12 15, 2007</td>\n",
              "    </tr>\n",
              "    <tr>\n",
              "      <th>2</th>\n",
              "      <td>A1F1A0QQP2XVH5</td>\n",
              "      <td>B00000JBLH</td>\n",
              "      <td>Mark B</td>\n",
              "      <td>[3, 3]</td>\n",
              "      <td>I have an HP 48GX that has been kicking for mo...</td>\n",
              "      <td>2</td>\n",
              "      <td>Good functionality, but not durable like old HPs</td>\n",
              "      <td>1293840000</td>\n",
              "      <td>01 1, 2011</td>\n",
              "    </tr>\n",
              "    <tr>\n",
              "      <th>3</th>\n",
              "      <td>A49R5DBXXQDE5</td>\n",
              "      <td>B00000JBLH</td>\n",
              "      <td>R. D Johnson</td>\n",
              "      <td>[7, 8]</td>\n",
              "      <td>I've started doing more finance stuff recently...</td>\n",
              "      <td>5</td>\n",
              "      <td>One of the last of an almost extinct species</td>\n",
              "      <td>1145404800</td>\n",
              "      <td>04 19, 2006</td>\n",
              "    </tr>\n",
              "    <tr>\n",
              "      <th>4</th>\n",
              "      <td>A2XRMQA6PJ5ZJ8</td>\n",
              "      <td>B00000JBLH</td>\n",
              "      <td>Roger J. Buffington</td>\n",
              "      <td>[0, 0]</td>\n",
              "      <td>For simple calculations and discounted cash fl...</td>\n",
              "      <td>5</td>\n",
              "      <td>Still the best</td>\n",
              "      <td>1375574400</td>\n",
              "      <td>08 4, 2013</td>\n",
              "    </tr>\n",
              "  </tbody>\n",
              "</table>\n",
              "</div>"
            ],
            "text/plain": [
              "       reviewerID        asin  ... unixReviewTime   reviewTime\n",
              "0  A32T2H8150OJLU  B00000JBLH  ...     1094169600   09 3, 2004\n",
              "1  A3MAFS04ZABRGO  B00000JBLH  ...     1197676800  12 15, 2007\n",
              "2  A1F1A0QQP2XVH5  B00000JBLH  ...     1293840000   01 1, 2011\n",
              "3   A49R5DBXXQDE5  B00000JBLH  ...     1145404800  04 19, 2006\n",
              "4  A2XRMQA6PJ5ZJ8  B00000JBLH  ...     1375574400   08 4, 2013\n",
              "\n",
              "[5 rows x 9 columns]"
            ]
          },
          "metadata": {
            "tags": []
          },
          "execution_count": 5
        }
      ]
    },
    {
      "cell_type": "code",
      "metadata": {
        "id": "DMiFUgqi_61J",
        "colab_type": "code",
        "colab": {}
      },
      "source": [
        "from textblob import TextBlob"
      ],
      "execution_count": 0,
      "outputs": []
    },
    {
      "cell_type": "code",
      "metadata": {
        "id": "WGbR_Ka4_8sz",
        "colab_type": "code",
        "colab": {
          "base_uri": "https://localhost:8080/",
          "height": 85
        },
        "outputId": "94e0532e-60c3-488f-d6ad-cd9a6d98aa6e"
      },
      "source": [
        "import nltk\n",
        "nltk.download('punkt')\n",
        "nltk.download('vader_lexicon')"
      ],
      "execution_count": 7,
      "outputs": [
        {
          "output_type": "stream",
          "text": [
            "[nltk_data] Downloading package punkt to /root/nltk_data...\n",
            "[nltk_data]   Unzipping tokenizers/punkt.zip.\n",
            "[nltk_data] Downloading package vader_lexicon to /root/nltk_data...\n"
          ],
          "name": "stdout"
        },
        {
          "output_type": "execute_result",
          "data": {
            "text/plain": [
              "True"
            ]
          },
          "metadata": {
            "tags": []
          },
          "execution_count": 7
        }
      ]
    },
    {
      "cell_type": "code",
      "metadata": {
        "id": "LBgbrXgF_-az",
        "colab_type": "code",
        "colab": {}
      },
      "source": [
        "def sent_pol(text):\n",
        "  blob=TextBlob(text)\n",
        "  for sentence in blob.sentences:\n",
        "    val=(sentence.sentiment.polarity)\n",
        "    if val > 0.0:\n",
        "      return \"positive\"\n",
        "    elif val < 0.0:\n",
        "      return \"negative\"\n",
        "    else:\n",
        "      return \"neutral\""
      ],
      "execution_count": 0,
      "outputs": []
    },
    {
      "cell_type": "code",
      "metadata": {
        "id": "yaaE2JlxAA72",
        "colab_type": "code",
        "colab": {}
      },
      "source": [
        "df_twitter['Sentiment Blob']=df_twitter['TweetText'].apply(sent_pol)\n",
        "df_amazon['Sentiment Blob']=df_amazon.iloc[0:100]['reviewText'].apply(sent_pol)"
      ],
      "execution_count": 0,
      "outputs": []
    },
    {
      "cell_type": "code",
      "metadata": {
        "id": "LvNGvxBMAER1",
        "colab_type": "code",
        "colab": {
          "base_uri": "https://localhost:8080/",
          "height": 71
        },
        "outputId": "96a0ca9f-0705-4891-e3cb-b4199adbbdd9"
      },
      "source": [
        "from nltk.sentiment.vader import SentimentIntensityAnalyzer"
      ],
      "execution_count": 10,
      "outputs": [
        {
          "output_type": "stream",
          "text": [
            "/usr/local/lib/python3.6/dist-packages/nltk/twitter/__init__.py:20: UserWarning: The twython library has not been installed. Some functionality from the twitter package will not be available.\n",
            "  warnings.warn(\"The twython library has not been installed. \"\n"
          ],
          "name": "stderr"
        }
      ]
    },
    {
      "cell_type": "code",
      "metadata": {
        "id": "aGcSmqe9AH-L",
        "colab_type": "code",
        "colab": {}
      },
      "source": [
        "def sent_int_analyzer(text):\n",
        "  sid=SentimentIntensityAnalyzer()\n",
        "  sp = sid.polarity_scores(text)\n",
        "  if sp['compound'] >= 0.05:\n",
        "    return \"positive\"\n",
        "  elif sp['compound'] <= -0.05:\n",
        "    return \"negative\"\n",
        "  else:\n",
        "    return \"neutral\""
      ],
      "execution_count": 0,
      "outputs": []
    },
    {
      "cell_type": "code",
      "metadata": {
        "id": "yJSAeoVrAKCQ",
        "colab_type": "code",
        "colab": {}
      },
      "source": [
        "df_twitter['Sentiment SIA']=df_twitter['TweetText'].apply(sent_int_analyzer)\n",
        "df_amazon['Sentiment SIA']=df_amazon.iloc[0:100]['reviewText'].apply(sent_int_analyzer)"
      ],
      "execution_count": 0,
      "outputs": []
    },
    {
      "cell_type": "code",
      "metadata": {
        "id": "L1SJ_lIkAMci",
        "colab_type": "code",
        "colab": {
          "base_uri": "https://localhost:8080/",
          "height": 204
        },
        "outputId": "d582f7f2-f145-451b-e7a3-fc3164a54283"
      },
      "source": [
        "df_twitter.head()"
      ],
      "execution_count": 14,
      "outputs": [
        {
          "output_type": "execute_result",
          "data": {
            "text/html": [
              "<div>\n",
              "<style scoped>\n",
              "    .dataframe tbody tr th:only-of-type {\n",
              "        vertical-align: middle;\n",
              "    }\n",
              "\n",
              "    .dataframe tbody tr th {\n",
              "        vertical-align: top;\n",
              "    }\n",
              "\n",
              "    .dataframe thead th {\n",
              "        text-align: right;\n",
              "    }\n",
              "</style>\n",
              "<table border=\"1\" class=\"dataframe\">\n",
              "  <thead>\n",
              "    <tr style=\"text-align: right;\">\n",
              "      <th></th>\n",
              "      <th>Topic</th>\n",
              "      <th>Sentiment</th>\n",
              "      <th>TweetId</th>\n",
              "      <th>TweetDate</th>\n",
              "      <th>TweetText</th>\n",
              "      <th>Sentiment Blob</th>\n",
              "      <th>Sentiment SIA</th>\n",
              "    </tr>\n",
              "  </thead>\n",
              "  <tbody>\n",
              "    <tr>\n",
              "      <th>0</th>\n",
              "      <td>apple</td>\n",
              "      <td>positive</td>\n",
              "      <td>126415614616154112</td>\n",
              "      <td>Tue Oct 18 21:53:25 +0000 2011</td>\n",
              "      <td>Now all @Apple has to do is get swype on the i...</td>\n",
              "      <td>neutral</td>\n",
              "      <td>neutral</td>\n",
              "    </tr>\n",
              "    <tr>\n",
              "      <th>1</th>\n",
              "      <td>apple</td>\n",
              "      <td>positive</td>\n",
              "      <td>126404574230740992</td>\n",
              "      <td>Tue Oct 18 21:09:33 +0000 2011</td>\n",
              "      <td>@Apple will be adding more carrier support to ...</td>\n",
              "      <td>positive</td>\n",
              "      <td>positive</td>\n",
              "    </tr>\n",
              "    <tr>\n",
              "      <th>2</th>\n",
              "      <td>apple</td>\n",
              "      <td>positive</td>\n",
              "      <td>126402758403305474</td>\n",
              "      <td>Tue Oct 18 21:02:20 +0000 2011</td>\n",
              "      <td>Hilarious @youtube video - guy does a duet wit...</td>\n",
              "      <td>positive</td>\n",
              "      <td>positive</td>\n",
              "    </tr>\n",
              "    <tr>\n",
              "      <th>3</th>\n",
              "      <td>apple</td>\n",
              "      <td>positive</td>\n",
              "      <td>126397179614068736</td>\n",
              "      <td>Tue Oct 18 20:40:10 +0000 2011</td>\n",
              "      <td>@RIM you made it too easy for me to switch to ...</td>\n",
              "      <td>positive</td>\n",
              "      <td>positive</td>\n",
              "    </tr>\n",
              "    <tr>\n",
              "      <th>4</th>\n",
              "      <td>apple</td>\n",
              "      <td>positive</td>\n",
              "      <td>126395626979196928</td>\n",
              "      <td>Tue Oct 18 20:34:00 +0000 2011</td>\n",
              "      <td>I just realized that the reason I got into twi...</td>\n",
              "      <td>positive</td>\n",
              "      <td>positive</td>\n",
              "    </tr>\n",
              "  </tbody>\n",
              "</table>\n",
              "</div>"
            ],
            "text/plain": [
              "   Topic Sentiment  ...  Sentiment Blob Sentiment SIA\n",
              "0  apple  positive  ...         neutral       neutral\n",
              "1  apple  positive  ...        positive      positive\n",
              "2  apple  positive  ...        positive      positive\n",
              "3  apple  positive  ...        positive      positive\n",
              "4  apple  positive  ...        positive      positive\n",
              "\n",
              "[5 rows x 7 columns]"
            ]
          },
          "metadata": {
            "tags": []
          },
          "execution_count": 14
        }
      ]
    },
    {
      "cell_type": "code",
      "metadata": {
        "id": "ByVbgG0oAOYW",
        "colab_type": "code",
        "colab": {
          "base_uri": "https://localhost:8080/",
          "height": 340
        },
        "outputId": "01017cb7-8bbe-4c57-c457-aa18271aa83d"
      },
      "source": [
        "df_amazon.head()"
      ],
      "execution_count": 15,
      "outputs": [
        {
          "output_type": "execute_result",
          "data": {
            "text/html": [
              "<div>\n",
              "<style scoped>\n",
              "    .dataframe tbody tr th:only-of-type {\n",
              "        vertical-align: middle;\n",
              "    }\n",
              "\n",
              "    .dataframe tbody tr th {\n",
              "        vertical-align: top;\n",
              "    }\n",
              "\n",
              "    .dataframe thead th {\n",
              "        text-align: right;\n",
              "    }\n",
              "</style>\n",
              "<table border=\"1\" class=\"dataframe\">\n",
              "  <thead>\n",
              "    <tr style=\"text-align: right;\">\n",
              "      <th></th>\n",
              "      <th>reviewerID</th>\n",
              "      <th>asin</th>\n",
              "      <th>reviewerName</th>\n",
              "      <th>helpful</th>\n",
              "      <th>reviewText</th>\n",
              "      <th>overall</th>\n",
              "      <th>summary</th>\n",
              "      <th>unixReviewTime</th>\n",
              "      <th>reviewTime</th>\n",
              "      <th>Sentiment Blob</th>\n",
              "      <th>Sentiment SIA</th>\n",
              "    </tr>\n",
              "  </thead>\n",
              "  <tbody>\n",
              "    <tr>\n",
              "      <th>0</th>\n",
              "      <td>A32T2H8150OJLU</td>\n",
              "      <td>B00000JBLH</td>\n",
              "      <td>ARH</td>\n",
              "      <td>[3, 4]</td>\n",
              "      <td>I bought my first HP12C in about 1984 or so, a...</td>\n",
              "      <td>5</td>\n",
              "      <td>A solid performer, and long time friend</td>\n",
              "      <td>1094169600</td>\n",
              "      <td>09 3, 2004</td>\n",
              "      <td>positive</td>\n",
              "      <td>positive</td>\n",
              "    </tr>\n",
              "    <tr>\n",
              "      <th>1</th>\n",
              "      <td>A3MAFS04ZABRGO</td>\n",
              "      <td>B00000JBLH</td>\n",
              "      <td>Let it Be \"Alan\"</td>\n",
              "      <td>[7, 9]</td>\n",
              "      <td>WHY THIS BELATED REVIEW? I feel very obliged t...</td>\n",
              "      <td>5</td>\n",
              "      <td>Price of GOLD is up, so don't bury the golden ...</td>\n",
              "      <td>1197676800</td>\n",
              "      <td>12 15, 2007</td>\n",
              "      <td>neutral</td>\n",
              "      <td>positive</td>\n",
              "    </tr>\n",
              "    <tr>\n",
              "      <th>2</th>\n",
              "      <td>A1F1A0QQP2XVH5</td>\n",
              "      <td>B00000JBLH</td>\n",
              "      <td>Mark B</td>\n",
              "      <td>[3, 3]</td>\n",
              "      <td>I have an HP 48GX that has been kicking for mo...</td>\n",
              "      <td>2</td>\n",
              "      <td>Good functionality, but not durable like old HPs</td>\n",
              "      <td>1293840000</td>\n",
              "      <td>01 1, 2011</td>\n",
              "      <td>positive</td>\n",
              "      <td>negative</td>\n",
              "    </tr>\n",
              "    <tr>\n",
              "      <th>3</th>\n",
              "      <td>A49R5DBXXQDE5</td>\n",
              "      <td>B00000JBLH</td>\n",
              "      <td>R. D Johnson</td>\n",
              "      <td>[7, 8]</td>\n",
              "      <td>I've started doing more finance stuff recently...</td>\n",
              "      <td>5</td>\n",
              "      <td>One of the last of an almost extinct species</td>\n",
              "      <td>1145404800</td>\n",
              "      <td>04 19, 2006</td>\n",
              "      <td>positive</td>\n",
              "      <td>positive</td>\n",
              "    </tr>\n",
              "    <tr>\n",
              "      <th>4</th>\n",
              "      <td>A2XRMQA6PJ5ZJ8</td>\n",
              "      <td>B00000JBLH</td>\n",
              "      <td>Roger J. Buffington</td>\n",
              "      <td>[0, 0]</td>\n",
              "      <td>For simple calculations and discounted cash fl...</td>\n",
              "      <td>5</td>\n",
              "      <td>Still the best</td>\n",
              "      <td>1375574400</td>\n",
              "      <td>08 4, 2013</td>\n",
              "      <td>positive</td>\n",
              "      <td>positive</td>\n",
              "    </tr>\n",
              "  </tbody>\n",
              "</table>\n",
              "</div>"
            ],
            "text/plain": [
              "       reviewerID        asin  ... Sentiment Blob Sentiment SIA\n",
              "0  A32T2H8150OJLU  B00000JBLH  ...       positive      positive\n",
              "1  A3MAFS04ZABRGO  B00000JBLH  ...        neutral      positive\n",
              "2  A1F1A0QQP2XVH5  B00000JBLH  ...       positive      negative\n",
              "3   A49R5DBXXQDE5  B00000JBLH  ...       positive      positive\n",
              "4  A2XRMQA6PJ5ZJ8  B00000JBLH  ...       positive      positive\n",
              "\n",
              "[5 rows x 11 columns]"
            ]
          },
          "metadata": {
            "tags": []
          },
          "execution_count": 15
        }
      ]
    },
    {
      "cell_type": "code",
      "metadata": {
        "id": "RHNdaSXkAQSc",
        "colab_type": "code",
        "colab": {}
      },
      "source": [
        "from sklearn.metrics import confusion_matrix, accuracy_score"
      ],
      "execution_count": 0,
      "outputs": []
    },
    {
      "cell_type": "code",
      "metadata": {
        "id": "urA-vBOIAS67",
        "colab_type": "code",
        "colab": {}
      },
      "source": [
        "blob_cm=confusion_matrix(df_twitter['Sentiment'],df_twitter['Sentiment Blob'])\n",
        "sia_cm=confusion_matrix(df_twitter['Sentiment'],df_twitter['Sentiment SIA'])"
      ],
      "execution_count": 0,
      "outputs": []
    },
    {
      "cell_type": "code",
      "metadata": {
        "id": "EPVEQH0BAU5O",
        "colab_type": "code",
        "colab": {}
      },
      "source": [
        "blob_acc=accuracy_score(df_twitter['Sentiment'],df_twitter['Sentiment Blob'])\n",
        "sia_acc=accuracy_score(df_twitter['Sentiment'],df_twitter['Sentiment SIA'])"
      ],
      "execution_count": 0,
      "outputs": []
    },
    {
      "cell_type": "code",
      "metadata": {
        "id": "oN0kyD26AWry",
        "colab_type": "code",
        "colab": {
          "base_uri": "https://localhost:8080/",
          "height": 85
        },
        "outputId": "5ddc9873-6a79-4814-accb-bc37a5a705f9"
      },
      "source": [
        "print(\"Confusion matrix while using blob: \\n\",blob_cm)"
      ],
      "execution_count": 19,
      "outputs": [
        {
          "output_type": "stream",
          "text": [
            "Confusion matrix while using blob: \n",
            " [[ 178  260  134]\n",
            " [ 189 1339  805]\n",
            " [  34  195  290]]\n"
          ],
          "name": "stdout"
        }
      ]
    },
    {
      "cell_type": "code",
      "metadata": {
        "id": "dO_jZBiaAYpp",
        "colab_type": "code",
        "colab": {
          "base_uri": "https://localhost:8080/",
          "height": 85
        },
        "outputId": "3e4133d9-a86d-41f3-8248-55ab3b5b4cef"
      },
      "source": [
        "print(\"Confusion matrix while using SIA: \\n\",sia_cm)"
      ],
      "execution_count": 20,
      "outputs": [
        {
          "output_type": "stream",
          "text": [
            "Confusion matrix while using SIA: \n",
            " [[ 291  138  143]\n",
            " [ 302 1234  797]\n",
            " [  47   99  373]]\n"
          ],
          "name": "stdout"
        }
      ]
    },
    {
      "cell_type": "code",
      "metadata": {
        "id": "XFHixAXbAaXc",
        "colab_type": "code",
        "colab": {
          "base_uri": "https://localhost:8080/",
          "height": 34
        },
        "outputId": "ac0992d2-49e1-4a49-e47e-3e3631ad63e1"
      },
      "source": [
        "print(\"Accuracy while using blob: \",blob_acc)"
      ],
      "execution_count": 21,
      "outputs": [
        {
          "output_type": "stream",
          "text": [
            "Accuracy while using blob:  0.5277453271028038\n"
          ],
          "name": "stdout"
        }
      ]
    },
    {
      "cell_type": "code",
      "metadata": {
        "id": "f99fx94XAcWc",
        "colab_type": "code",
        "colab": {}
      },
      "source": [
        "print(\"Accuracy while using SIA: \",sia_acc)"
      ],
      "execution_count": 0,
      "outputs": []
    },
    {
      "cell_type": "code",
      "metadata": {
        "id": "ev6Sk52BAeQv",
        "colab_type": "code",
        "colab": {
          "base_uri": "https://localhost:8080/",
          "height": 85
        },
        "outputId": "de3e9a72-ecb6-4c78-9004-8a516dbbf625"
      },
      "source": [
        "df_twitter['Sentiment'].value_counts()"
      ],
      "execution_count": 23,
      "outputs": [
        {
          "output_type": "execute_result",
          "data": {
            "text/plain": [
              "neutral     2333\n",
              "negative     572\n",
              "positive     519\n",
              "Name: Sentiment, dtype: int64"
            ]
          },
          "metadata": {
            "tags": []
          },
          "execution_count": 23
        }
      ]
    },
    {
      "cell_type": "code",
      "metadata": {
        "id": "Zb6Kr1iWAg8S",
        "colab_type": "code",
        "colab": {
          "base_uri": "https://localhost:8080/",
          "height": 85
        },
        "outputId": "9f11e3f5-9534-4e6e-eecd-ad8399c08cc3"
      },
      "source": [
        "df_twitter['Sentiment Blob'].value_counts()"
      ],
      "execution_count": 24,
      "outputs": [
        {
          "output_type": "execute_result",
          "data": {
            "text/plain": [
              "neutral     1794\n",
              "positive    1229\n",
              "negative     401\n",
              "Name: Sentiment Blob, dtype: int64"
            ]
          },
          "metadata": {
            "tags": []
          },
          "execution_count": 24
        }
      ]
    },
    {
      "cell_type": "code",
      "metadata": {
        "id": "JPxnNvmZAi_k",
        "colab_type": "code",
        "colab": {
          "base_uri": "https://localhost:8080/",
          "height": 85
        },
        "outputId": "247dd98c-e8b6-4e13-aeaa-fb985ae7647e"
      },
      "source": [
        "df_twitter['Sentiment SIA'].value_counts()"
      ],
      "execution_count": 25,
      "outputs": [
        {
          "output_type": "execute_result",
          "data": {
            "text/plain": [
              "neutral     1471\n",
              "positive    1313\n",
              "negative     640\n",
              "Name: Sentiment SIA, dtype: int64"
            ]
          },
          "metadata": {
            "tags": []
          },
          "execution_count": 25
        }
      ]
    }
  ]
}